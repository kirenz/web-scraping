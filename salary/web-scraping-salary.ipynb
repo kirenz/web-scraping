{
 "cells": [
  {
   "cell_type": "markdown",
   "metadata": {},
   "source": [
    "# Web scraping tutorial \n",
    "\n",
    "Salaries of college presidents"
   ]
  },
  {
   "cell_type": "markdown",
   "metadata": {},
   "source": [
    "*This notebook is mainly inspired by Will Koehrsen's tutorial [\"Web Scraping, Regular Expressions, and Data Visualization: Doing it all in Python\"](https://towardsdatascience.com/web-scraping-regular-expressions-and-data-visualization-doing-it-all-in-python-37a1aade7924).*"
   ]
  },
  {
   "cell_type": "markdown",
   "metadata": {},
   "source": [
    "In this tutorial, you will learn how to:\n",
    "\n",
    "1. Get a web page with [Requests](https://docs.python-requests.org/en/latest/) \n",
    "\n",
    "\n",
    "1. Pulling data out of HTML using  [Beautiful Soup](https://www.crummy.com/software/BeautifulSoup/bs4/doc/)\n",
    "\n",
    "\n",
    "1. Perform data tidying using [pandas](https://pandas.pydata.org/)\n",
    "\n",
    "\n",
    "1. Visualize data data with [seaborn](https://seaborn.pydata.org/) and [Matplotlib](https://matplotlib.org/)"
   ]
  },
  {
   "cell_type": "markdown",
   "metadata": {},
   "source": [
    "## Prerequisites"
   ]
  },
  {
   "cell_type": "markdown",
   "metadata": {},
   "source": [
    "To start this tutorial, you need: \n",
    "\n",
    "- Some basic understanding of HTML and CSS as well as the Chrome extension SelectorGadget. Follow the instructions in this [web scraping tutorial](https://kirenz.github.io/codelabs/codelabs/webscraping/#0) to learn more."
   ]
  },
  {
   "cell_type": "markdown",
   "metadata": {},
   "source": [
    "## Setup"
   ]
  },
  {
   "cell_type": "code",
   "execution_count": 134,
   "metadata": {},
   "outputs": [],
   "source": [
    "%matplotlib inline\n",
    "from IPython.display import IFrame\n",
    "\n",
    "import requests \n",
    "from bs4 import BeautifulSoup\n",
    "\n",
    "import pandas as pd\n",
    "import seaborn as sns\n",
    "import matplotlib.pyplot as plt\n",
    "import matplotlib.ticker as ticker"
   ]
  },
  {
   "cell_type": "markdown",
   "metadata": {},
   "source": [
    "## Scrape with Requests"
   ]
  },
  {
   "cell_type": "markdown",
   "metadata": {},
   "source": [
    "- First, take a look at the [website](https://www.cleveland.com/metro/index.ssf/2017/12/case_western_reserve_university_president_barbara_snyders_base_salary_and_bonus_pay_tops_among_private_colleges_in_ohio.html) \n"
   ]
  },
  {
   "cell_type": "code",
   "execution_count": 4,
   "metadata": {},
   "outputs": [
    {
     "data": {
      "text/html": [
       "\n",
       "        <iframe\n",
       "            width=\"800\"\n",
       "            height=\"450\"\n",
       "            src=\"https://www.cleveland.com/metro/index.ssf/2017/12/case_western_reserve_university_president_barbara_snyders_base_salary_and_bonus_pay_tops_among_private_colleges_in_ohio.html\"\n",
       "            frameborder=\"0\"\n",
       "            allowfullscreen\n",
       "            \n",
       "        ></iframe>\n",
       "        "
      ],
      "text/plain": [
       "<IPython.lib.display.IFrame at 0x7fcba90f3f10>"
      ]
     },
     "execution_count": 4,
     "metadata": {},
     "output_type": "execute_result"
    }
   ],
   "source": [
    "# Display website in notebook\n",
    "IFrame('https://www.cleveland.com/metro/index.ssf/2017/12/case_western_reserve_university_president_barbara_snyders_base_salary_and_bonus_pay_tops_among_private_colleges_in_ohio.html', width=800, height=450)"
   ]
  },
  {
   "cell_type": "markdown",
   "metadata": {},
   "source": [
    "- We use the `requests` library for retrieving the HTML content from this webpage:"
   ]
  },
  {
   "cell_type": "code",
   "execution_count": 6,
   "metadata": {},
   "outputs": [],
   "source": [
    "# Make the GET request to a url\n",
    "url = 'http://www.cleveland.com/metro/index.ssf/2017/12/case_western_reserve_university_president_barbara_snyders_base_salary_and_bonus_pay_tops_among_private_colleges_in_ohio.html'\n",
    "\n",
    "html = requests.get(url)"
   ]
  },
  {
   "cell_type": "markdown",
   "metadata": {},
   "source": [
    "- Check if the response was succesfull"
   ]
  },
  {
   "cell_type": "code",
   "execution_count": 7,
   "metadata": {},
   "outputs": [
    {
     "data": {
      "text/plain": [
       "<Response [200]>"
      ]
     },
     "execution_count": 7,
     "metadata": {},
     "output_type": "execute_result"
    }
   ],
   "source": [
    "html"
   ]
  },
  {
   "cell_type": "markdown",
   "metadata": {},
   "source": [
    "- Response 200 means that the request has succeeded. "
   ]
  },
  {
   "cell_type": "markdown",
   "metadata": {},
   "source": [
    "## Investigate HTML with Beautiful Soup"
   ]
  },
  {
   "cell_type": "markdown",
   "metadata": {},
   "source": [
    "\n",
    "- There are 2 pieces of information we need want extract from the text:\n",
    "\n",
    "  - names of the presidents\n",
    "  - salaries "
   ]
  },
  {
   "cell_type": "code",
   "execution_count": 86,
   "metadata": {},
   "outputs": [],
   "source": [
    "soup = BeautifulSoup(html.text, 'html.parser')"
   ]
  },
  {
   "cell_type": "markdown",
   "metadata": {},
   "source": [
    "- The relevant data (names and salary) is inside `soup` somewhere.\n",
    "\n",
    "- Next, we need to locate it using [CSS selectors](https://www.w3schools.com/cssref/css_selectors.asp). \n",
    "\n",
    "- One way to do this is by going to the [website](https://www.cleveland.com/metro/index.ssf/2017/12/case_western_reserve_university_president_barbara_snyders_base_salary_and_bonus_pay_tops_among_private_colleges_in_ohio.html) and inspecting the element (e.g. using DevTools in Google Chrome). \n",
    "\n",
    "- We find that the relevant information is stored as unorder list (`ul`)"
   ]
  },
  {
   "cell_type": "markdown",
   "metadata": {},
   "source": [
    "- Investigate the element `ul`"
   ]
  },
  {
   "cell_type": "code",
   "execution_count": 89,
   "metadata": {},
   "outputs": [
    {
     "name": "stdout",
     "output_type": "stream",
     "text": [
      "<ul class=\"article__unordered-list\">\n",
      " <li>\n",
      "  <span>\n",
      "   Grant Cornwell, College of Wooster (left in 2015): $911,651\n",
      "  </span>\n",
      " </li>\n",
      " <li>\n",
      "  <span>\n",
      "   Marvin Krislov, Oberlin College (left in 2016):  $829,913\n",
      "  </span>\n",
      " </li>\n",
      " <li>\n",
      "  <span>\n",
      "   Mark Roosevelt, Antioch College, (left in 2015): $507,672\n",
      "  </span>\n",
      " </li>\n",
      " <li>\n",
      "  <span>\n",
      "   Laurie Joyner, Wittenberg University (left in 2015): $463,504\n",
      "  </span>\n",
      " </li>\n",
      " <li>\n",
      "  <span>\n",
      "   Richard Giese, University of Mount Union (left in 2015): $453,800\n",
      "  </span>\n",
      " </li>\n",
      " <li>\n",
      "  <span>\n",
      "   Sean Decatur,Kenyon College: $451,698\n",
      "  </span>\n",
      " </li>\n",
      " <li>\n",
      "  <span>\n",
      "   Adam Weinberg, Denison University: $435,322\n",
      "  </span>\n",
      " </li>\n",
      " <li>\n",
      "  <span>\n",
      "   Daniel Dibiasio, Ohio Northern University: $414,716\n",
      "  </span>\n",
      " </li>\n",
      " <li>\n",
      "  <span>\n",
      "   Denvy Bowman, Capital University (left in 2016): $388,570\n",
      "  </span>\n",
      " </li>\n",
      " <li>\n",
      "  <span>\n",
      "   Anne Steele, Muskingum University (left in 2016): $384,233\n",
      "  </span>\n",
      " </li>\n",
      " <li>\n",
      "  <span>\n",
      "   Kathy Krendl, Otterbein University:  $378,035\n",
      "  </span>\n",
      " </li>\n",
      " <li>\n",
      "  <span>\n",
      "   Rockwell Jones, Ohio Wesleyan University: $366,625\n",
      "  </span>\n",
      " </li>\n",
      " <li>\n",
      "  <span>\n",
      "   Robert Helmer, Baldwin Wallace University: $365,616\n",
      "  </span>\n",
      " </li>\n",
      " <li>\n",
      "  <span>\n",
      "   Robert Huntington, Heidelberg University: $300,005\n",
      "  </span>\n",
      " </li>\n",
      " <li>\n",
      "  <span>\n",
      "   Lori Varlotta, Hiram College: $293,336\n",
      "  </span>\n",
      " </li>\n",
      " <li>\n",
      "  <span>\n",
      "   Joseph Bruno, Marietta College (left in 2016): $288,295\n",
      "  </span>\n",
      " </li>\n",
      " <li>\n",
      "  <span>\n",
      "   W. Richard Merriman Jr., University of Mount Union (started in June 2015): $221,761\n",
      "  </span>\n",
      " </li>\n",
      "</ul>\n",
      "\n"
     ]
    }
   ],
   "source": [
    "print(soup.ul.prettify())"
   ]
  },
  {
   "cell_type": "markdown",
   "metadata": {},
   "source": [
    "- We save the content as `u_list`"
   ]
  },
  {
   "cell_type": "code",
   "execution_count": 83,
   "metadata": {},
   "outputs": [],
   "source": [
    "u_list = soup.ul"
   ]
  },
  {
   "cell_type": "markdown",
   "metadata": {},
   "source": [
    "- Note that we also could extract only the text of element `ul` (using `soup.ul.text`)\n",
    "\n",
    "- However, this would make it more difficult to extract specific information from the object, since the structure is lost (use `print(soup.ul.text)`to observe the result"
   ]
  },
  {
   "cell_type": "markdown",
   "metadata": {},
   "source": [
    "- Next, we iterate over the element `span` from `u_list` "
   ]
  },
  {
   "cell_type": "code",
   "execution_count": 92,
   "metadata": {},
   "outputs": [
    {
     "name": "stdout",
     "output_type": "stream",
     "text": [
      "Grant Cornwell, College of Wooster (left in 2015): $911,651\n",
      "Marvin Krislov, Oberlin College (left in 2016):  $829,913\n",
      "Mark Roosevelt, Antioch College, (left in 2015): $507,672\n",
      "Laurie Joyner, Wittenberg University (left in 2015): $463,504\n",
      "Richard Giese, University of Mount Union (left in 2015): $453,800\n",
      "Sean Decatur,Kenyon College: $451,698\n",
      "Adam Weinberg, Denison University: $435,322\n",
      "Daniel Dibiasio, Ohio Northern University: $414,716\n",
      "Denvy Bowman, Capital University (left in 2016): $388,570\n",
      "Anne Steele, Muskingum University (left in 2016): $384,233\n",
      "Kathy Krendl, Otterbein University:  $378,035\n",
      "Rockwell Jones, Ohio Wesleyan University: $366,625\n",
      "Robert Helmer, Baldwin Wallace University: $365,616\n",
      "Robert Huntington, Heidelberg University: $300,005\n",
      "Lori Varlotta, Hiram College: $293,336\n",
      "Joseph Bruno, Marietta College (left in 2016): $288,295\n",
      "W. Richard Merriman Jr., University of Mount Union (started in June 2015): $221,761\n"
     ]
    }
   ],
   "source": [
    "for i in u_list.find_all('span'):\n",
    "    print(i.text)"
   ]
  },
  {
   "cell_type": "markdown",
   "metadata": {},
   "source": [
    "- Store the data in an array (called `raw_text`):"
   ]
  },
  {
   "cell_type": "code",
   "execution_count": 93,
   "metadata": {},
   "outputs": [],
   "source": [
    "raw_text = []\n",
    "\n",
    "for i in u_list.find_all('span'):\n",
    "    raw_text.append(i.text)"
   ]
  },
  {
   "cell_type": "markdown",
   "metadata": {},
   "source": [
    "## Data tidying"
   ]
  },
  {
   "cell_type": "markdown",
   "metadata": {},
   "source": [
    "*We use some of the methods described in the pandas documentation about [\"working with text data\"](https://pandas.pydata.org/docs/user_guide/text.html#working-with-text-data)*"
   ]
  },
  {
   "cell_type": "markdown",
   "metadata": {},
   "source": [
    "- We want to use pandas to perform our data tidying so let's create a dataframe:"
   ]
  },
  {
   "cell_type": "code",
   "execution_count": 119,
   "metadata": {},
   "outputs": [
    {
     "data": {
      "text/html": [
       "<div>\n",
       "<style scoped>\n",
       "    .dataframe tbody tr th:only-of-type {\n",
       "        vertical-align: middle;\n",
       "    }\n",
       "\n",
       "    .dataframe tbody tr th {\n",
       "        vertical-align: top;\n",
       "    }\n",
       "\n",
       "    .dataframe thead th {\n",
       "        text-align: right;\n",
       "    }\n",
       "</style>\n",
       "<table border=\"1\" class=\"dataframe\">\n",
       "  <thead>\n",
       "    <tr style=\"text-align: right;\">\n",
       "      <th></th>\n",
       "      <th>text</th>\n",
       "    </tr>\n",
       "  </thead>\n",
       "  <tbody>\n",
       "    <tr>\n",
       "      <th>0</th>\n",
       "      <td>Grant Cornwell, College of Wooster (left in 20...</td>\n",
       "    </tr>\n",
       "    <tr>\n",
       "      <th>1</th>\n",
       "      <td>Marvin Krislov, Oberlin College (left in 2016)...</td>\n",
       "    </tr>\n",
       "    <tr>\n",
       "      <th>2</th>\n",
       "      <td>Mark Roosevelt, Antioch College, (left in 2015...</td>\n",
       "    </tr>\n",
       "    <tr>\n",
       "      <th>3</th>\n",
       "      <td>Laurie Joyner, Wittenberg University (left in ...</td>\n",
       "    </tr>\n",
       "    <tr>\n",
       "      <th>4</th>\n",
       "      <td>Richard Giese, University of Mount Union (left...</td>\n",
       "    </tr>\n",
       "    <tr>\n",
       "      <th>5</th>\n",
       "      <td>Sean Decatur,Kenyon College: $451,698</td>\n",
       "    </tr>\n",
       "    <tr>\n",
       "      <th>6</th>\n",
       "      <td>Adam Weinberg, Denison University: $435,322</td>\n",
       "    </tr>\n",
       "    <tr>\n",
       "      <th>7</th>\n",
       "      <td>Daniel Dibiasio, Ohio Northern University: $41...</td>\n",
       "    </tr>\n",
       "    <tr>\n",
       "      <th>8</th>\n",
       "      <td>Denvy Bowman, Capital University (left in 2016...</td>\n",
       "    </tr>\n",
       "    <tr>\n",
       "      <th>9</th>\n",
       "      <td>Anne Steele, Muskingum University (left in 201...</td>\n",
       "    </tr>\n",
       "    <tr>\n",
       "      <th>10</th>\n",
       "      <td>Kathy Krendl, Otterbein University:  $378,035</td>\n",
       "    </tr>\n",
       "    <tr>\n",
       "      <th>11</th>\n",
       "      <td>Rockwell Jones, Ohio Wesleyan University: $366...</td>\n",
       "    </tr>\n",
       "    <tr>\n",
       "      <th>12</th>\n",
       "      <td>Robert Helmer, Baldwin Wallace University: $36...</td>\n",
       "    </tr>\n",
       "    <tr>\n",
       "      <th>13</th>\n",
       "      <td>Robert Huntington, Heidelberg University: $300...</td>\n",
       "    </tr>\n",
       "    <tr>\n",
       "      <th>14</th>\n",
       "      <td>Lori Varlotta, Hiram College: $293,336</td>\n",
       "    </tr>\n",
       "    <tr>\n",
       "      <th>15</th>\n",
       "      <td>Joseph Bruno, Marietta College (left in 2016):...</td>\n",
       "    </tr>\n",
       "    <tr>\n",
       "      <th>16</th>\n",
       "      <td>W. Richard Merriman Jr., University of Mount U...</td>\n",
       "    </tr>\n",
       "  </tbody>\n",
       "</table>\n",
       "</div>"
      ],
      "text/plain": [
       "                                                 text\n",
       "0   Grant Cornwell, College of Wooster (left in 20...\n",
       "1   Marvin Krislov, Oberlin College (left in 2016)...\n",
       "2   Mark Roosevelt, Antioch College, (left in 2015...\n",
       "3   Laurie Joyner, Wittenberg University (left in ...\n",
       "4   Richard Giese, University of Mount Union (left...\n",
       "5               Sean Decatur,Kenyon College: $451,698\n",
       "6         Adam Weinberg, Denison University: $435,322\n",
       "7   Daniel Dibiasio, Ohio Northern University: $41...\n",
       "8   Denvy Bowman, Capital University (left in 2016...\n",
       "9   Anne Steele, Muskingum University (left in 201...\n",
       "10      Kathy Krendl, Otterbein University:  $378,035\n",
       "11  Rockwell Jones, Ohio Wesleyan University: $366...\n",
       "12  Robert Helmer, Baldwin Wallace University: $36...\n",
       "13  Robert Huntington, Heidelberg University: $300...\n",
       "14             Lori Varlotta, Hiram College: $293,336\n",
       "15  Joseph Bruno, Marietta College (left in 2016):...\n",
       "16  W. Richard Merriman Jr., University of Mount U..."
      ]
     },
     "execution_count": 119,
     "metadata": {},
     "output_type": "execute_result"
    }
   ],
   "source": [
    "df = pd.DataFrame( {\"text\": raw_text} )\n",
    "\n",
    "df"
   ]
  },
  {
   "cell_type": "markdown",
   "metadata": {},
   "source": [
    "- A typical entry in our column text looks like:"
   ]
  },
  {
   "cell_type": "markdown",
   "metadata": {},
   "source": [
    "\"Grant Cornwell, College of Wooster (left in 2015): $911,651\""
   ]
  },
  {
   "cell_type": "markdown",
   "metadata": {},
   "source": [
    "- In general, the structur is as follows:"
   ]
  },
  {
   "cell_type": "markdown",
   "metadata": {},
   "source": [
    "\"name, college (left in year): $salary\""
   ]
  },
  {
   "cell_type": "markdown",
   "metadata": {},
   "source": [
    "- Note that the name is the first element and is followed by and semicolon (\",\")\n",
    "- The salary is the last entry in our data (followed by the symbol \"$\")"
   ]
  },
  {
   "cell_type": "markdown",
   "metadata": {},
   "source": [
    "### Extract names"
   ]
  },
  {
   "cell_type": "markdown",
   "metadata": {},
   "source": [
    "- Extract the names of the presidents \n",
    "\n",
    "- Make a split at every \",\" and extract the first element with index 0"
   ]
  },
  {
   "cell_type": "code",
   "execution_count": 120,
   "metadata": {},
   "outputs": [],
   "source": [
    "df['name'] = df['text'].str.split(\",\").str.get(0)"
   ]
  },
  {
   "cell_type": "code",
   "execution_count": 121,
   "metadata": {},
   "outputs": [
    {
     "data": {
      "text/html": [
       "<div>\n",
       "<style scoped>\n",
       "    .dataframe tbody tr th:only-of-type {\n",
       "        vertical-align: middle;\n",
       "    }\n",
       "\n",
       "    .dataframe tbody tr th {\n",
       "        vertical-align: top;\n",
       "    }\n",
       "\n",
       "    .dataframe thead th {\n",
       "        text-align: right;\n",
       "    }\n",
       "</style>\n",
       "<table border=\"1\" class=\"dataframe\">\n",
       "  <thead>\n",
       "    <tr style=\"text-align: right;\">\n",
       "      <th></th>\n",
       "      <th>text</th>\n",
       "      <th>name</th>\n",
       "    </tr>\n",
       "  </thead>\n",
       "  <tbody>\n",
       "    <tr>\n",
       "      <th>0</th>\n",
       "      <td>Grant Cornwell, College of Wooster (left in 20...</td>\n",
       "      <td>Grant Cornwell</td>\n",
       "    </tr>\n",
       "    <tr>\n",
       "      <th>1</th>\n",
       "      <td>Marvin Krislov, Oberlin College (left in 2016)...</td>\n",
       "      <td>Marvin Krislov</td>\n",
       "    </tr>\n",
       "    <tr>\n",
       "      <th>2</th>\n",
       "      <td>Mark Roosevelt, Antioch College, (left in 2015...</td>\n",
       "      <td>Mark Roosevelt</td>\n",
       "    </tr>\n",
       "    <tr>\n",
       "      <th>3</th>\n",
       "      <td>Laurie Joyner, Wittenberg University (left in ...</td>\n",
       "      <td>Laurie Joyner</td>\n",
       "    </tr>\n",
       "    <tr>\n",
       "      <th>4</th>\n",
       "      <td>Richard Giese, University of Mount Union (left...</td>\n",
       "      <td>Richard Giese</td>\n",
       "    </tr>\n",
       "  </tbody>\n",
       "</table>\n",
       "</div>"
      ],
      "text/plain": [
       "                                                text            name\n",
       "0  Grant Cornwell, College of Wooster (left in 20...  Grant Cornwell\n",
       "1  Marvin Krislov, Oberlin College (left in 2016)...  Marvin Krislov\n",
       "2  Mark Roosevelt, Antioch College, (left in 2015...  Mark Roosevelt\n",
       "3  Laurie Joyner, Wittenberg University (left in ...   Laurie Joyner\n",
       "4  Richard Giese, University of Mount Union (left...   Richard Giese"
      ]
     },
     "execution_count": 121,
     "metadata": {},
     "output_type": "execute_result"
    }
   ],
   "source": [
    "df.head()"
   ]
  },
  {
   "cell_type": "markdown",
   "metadata": {},
   "source": [
    "### Extract salary"
   ]
  },
  {
   "cell_type": "markdown",
   "metadata": {},
   "source": [
    "- Extract the salary:"
   ]
  },
  {
   "cell_type": "code",
   "execution_count": 122,
   "metadata": {},
   "outputs": [],
   "source": [
    "df['salary'] = df['text'].str.split(\"$\").str.get(1)"
   ]
  },
  {
   "cell_type": "code",
   "execution_count": 123,
   "metadata": {},
   "outputs": [
    {
     "data": {
      "text/html": [
       "<div>\n",
       "<style scoped>\n",
       "    .dataframe tbody tr th:only-of-type {\n",
       "        vertical-align: middle;\n",
       "    }\n",
       "\n",
       "    .dataframe tbody tr th {\n",
       "        vertical-align: top;\n",
       "    }\n",
       "\n",
       "    .dataframe thead th {\n",
       "        text-align: right;\n",
       "    }\n",
       "</style>\n",
       "<table border=\"1\" class=\"dataframe\">\n",
       "  <thead>\n",
       "    <tr style=\"text-align: right;\">\n",
       "      <th></th>\n",
       "      <th>text</th>\n",
       "      <th>name</th>\n",
       "      <th>salary</th>\n",
       "    </tr>\n",
       "  </thead>\n",
       "  <tbody>\n",
       "    <tr>\n",
       "      <th>0</th>\n",
       "      <td>Grant Cornwell, College of Wooster (left in 20...</td>\n",
       "      <td>Grant Cornwell</td>\n",
       "      <td>911,651</td>\n",
       "    </tr>\n",
       "    <tr>\n",
       "      <th>1</th>\n",
       "      <td>Marvin Krislov, Oberlin College (left in 2016)...</td>\n",
       "      <td>Marvin Krislov</td>\n",
       "      <td>829,913</td>\n",
       "    </tr>\n",
       "    <tr>\n",
       "      <th>2</th>\n",
       "      <td>Mark Roosevelt, Antioch College, (left in 2015...</td>\n",
       "      <td>Mark Roosevelt</td>\n",
       "      <td>507,672</td>\n",
       "    </tr>\n",
       "    <tr>\n",
       "      <th>3</th>\n",
       "      <td>Laurie Joyner, Wittenberg University (left in ...</td>\n",
       "      <td>Laurie Joyner</td>\n",
       "      <td>463,504</td>\n",
       "    </tr>\n",
       "    <tr>\n",
       "      <th>4</th>\n",
       "      <td>Richard Giese, University of Mount Union (left...</td>\n",
       "      <td>Richard Giese</td>\n",
       "      <td>453,800</td>\n",
       "    </tr>\n",
       "  </tbody>\n",
       "</table>\n",
       "</div>"
      ],
      "text/plain": [
       "                                                text            name   salary\n",
       "0  Grant Cornwell, College of Wooster (left in 20...  Grant Cornwell  911,651\n",
       "1  Marvin Krislov, Oberlin College (left in 2016)...  Marvin Krislov  829,913\n",
       "2  Mark Roosevelt, Antioch College, (left in 2015...  Mark Roosevelt  507,672\n",
       "3  Laurie Joyner, Wittenberg University (left in ...   Laurie Joyner  463,504\n",
       "4  Richard Giese, University of Mount Union (left...   Richard Giese  453,800"
      ]
     },
     "execution_count": 123,
     "metadata": {},
     "output_type": "execute_result"
    }
   ],
   "source": [
    "df.head()"
   ]
  },
  {
   "cell_type": "markdown",
   "metadata": {},
   "source": [
    "- Fix data format in salary (drop the \",\"):"
   ]
  },
  {
   "cell_type": "code",
   "execution_count": 124,
   "metadata": {},
   "outputs": [],
   "source": [
    "df['salary'] = df['salary'].str.replace(\",\", \"\")"
   ]
  },
  {
   "cell_type": "markdown",
   "metadata": {},
   "source": [
    "- Make the data numeric"
   ]
  },
  {
   "cell_type": "code",
   "execution_count": 125,
   "metadata": {},
   "outputs": [],
   "source": [
    "df['salary'] = df['salary'].astype(\"int32\")"
   ]
  },
  {
   "cell_type": "code",
   "execution_count": 126,
   "metadata": {},
   "outputs": [
    {
     "name": "stdout",
     "output_type": "stream",
     "text": [
      "<class 'pandas.core.frame.DataFrame'>\n",
      "RangeIndex: 17 entries, 0 to 16\n",
      "Data columns (total 3 columns):\n",
      " #   Column  Non-Null Count  Dtype \n",
      "---  ------  --------------  ----- \n",
      " 0   text    17 non-null     object\n",
      " 1   name    17 non-null     object\n",
      " 2   salary  17 non-null     int32 \n",
      "dtypes: int32(1), object(2)\n",
      "memory usage: 468.0+ bytes\n"
     ]
    }
   ],
   "source": [
    "df.info()"
   ]
  },
  {
   "cell_type": "markdown",
   "metadata": {},
   "source": [
    "## Data visualization"
   ]
  },
  {
   "cell_type": "markdown",
   "metadata": {},
   "source": [
    "\n",
    "- We will use the matplotlib and seaborn libraries for visualizing the results. "
   ]
  },
  {
   "cell_type": "code",
   "execution_count": 161,
   "metadata": {},
   "outputs": [
    {
     "data": {
      "image/png": "[encoded data removed]",
      "text/plain": [
       "<Figure size 432x288 with 1 Axes>"
      ]
     },
     "metadata": {},
     "output_type": "display_data"
    }
   ],
   "source": [
    "sns.set_style(\"whitegrid\", {'axes.grid' : False})\n",
    "\n",
    "\n",
    "fig, ax = plt.subplots()\n",
    "\n",
    "\n",
    "sns.barplot(x=\"salary\", \n",
    "            y=\"name\", \n",
    "            color=\"#3F83F4\",\n",
    "            #edgecolor = 'k', \n",
    "            linewidth = 2,\n",
    "            data=df);\n",
    "\n",
    "ax.xaxis.set_major_formatter('{x:1.0f} k $')\n",
    "ax.xaxis.set_major_formatter(ticker.EngFormatter(' $'))\n",
    "ax.xaxis.set_tick_params(which='major', labelcolor='grey')  \n",
    "\n",
    "ax.yaxis.set_tick_params(which='major', labelcolor='grey', labelleft=True)\n",
    "\n",
    "sns.despine()\n",
    "\n",
    "plt.ylabel(\"\")\n",
    "plt.xlabel(\"\")\n",
    "\n",
    "# Text for caption\n",
    "txt = 'Source: Farkas, K. (2017), cleveland.com'\n",
    "\n",
    "# Add the caption\n",
    "plt.text(x = -5, \n",
    "         y = 20, \n",
    "         s = txt, \n",
    "         color = \"grey\",\n",
    "         size = 8);"
   ]
  }
 ],
 "metadata": {
  "kernelspec": {
   "display_name": "Python 3",
   "language": "python",
   "name": "python3"
  },
  "language_info": {
   "codemirror_mode": {
    "name": "ipython",
    "version": 3
   },
   "file_extension": ".py",
   "mimetype": "text/x-python",
   "name": "python",
   "nbconvert_exporter": "python",
   "pygments_lexer": "ipython3",
   "version": "3.9.7"
  },
  "toc": {
   "base_numbering": 1,
   "nav_menu": {},
   "number_sections": true,
   "sideBar": true,
   "skip_h1_title": true,
   "title_cell": "Table of Contents",
   "title_sidebar": "Contents",
   "toc_cell": true,
   "toc_position": {
    "height": "calc(100% - 180px)",
    "left": "10px",
    "top": "150px",
    "width": "237px"
   },
   "toc_section_display": true,
   "toc_window_display": true
  }
 },
 "nbformat": 4,
 "nbformat_minor": 2
}
